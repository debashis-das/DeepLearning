{
 "cells": [
  {
   "cell_type": "code",
   "execution_count": 62,
   "metadata": {},
   "outputs": [
    {
     "name": "stdout",
     "output_type": "stream",
     "text": [
      "torch.Size([784])\n",
      "torch.Size([784])\n"
     ]
    },
    {
     "data": {
      "text/plain": [
       "torch.Size([784])"
      ]
     },
     "execution_count": 62,
     "metadata": {},
     "output_type": "execute_result"
    }
   ],
   "source": [
    "import numpy as np\n",
    "import torch\n",
    "import torch.nn as nn\n",
    "# import torch.distributions as D\n",
    "\n",
    "loss = nn.CrossEntropyLoss()\n",
    "input = torch.randn(3, 5, requires_grad=True)\n",
    "target = torch.empty(3, dtype=torch.long).random_(5)\n",
    "output = loss(input, target)\n",
    "\n",
    "# np.random.seed(42)\n",
    "# D = 12\n",
    "# a = np.expand_dims(np.arange(D),1).reshape(2,2,1,3)\n",
    "# print(a)\n",
    "# print(a.shape)\n",
    "# print(a.reshape(-1,1))\n",
    "# print(a.reshape(1,-1))\n",
    "# val = 1.0 / np.linspace(10, 1, 10)\n",
    "# print(val)\n",
    "# print(np.flip(np.sort(val)))\n",
    "# e = np.flip(np.sort(1.0 / np.linspace(10, 1, 5)))\n",
    "# print(np.diag(e))\n",
    "# print(np.diag(1/e))\n",
    "\n",
    "# x = np.array([[1,2],[3,4]])\n",
    "# print(x.shape[1])\n",
    "# print(np.repeat(x, [3, 2], axis=1))\n",
    "# x = np.array([[1,2],[3,4]])\n",
    "# print(x[:, None])\n",
    "# total_class = 12\n",
    "# input_shape = 28*28\n",
    "# random_uniform_val = torch.rand(total_class)\n",
    "# cat_mean = random_uniform_val/random_uniform_val.sum()\n",
    "# gauss_mean = torch.zeros(input_shape)\n",
    "# gauss_covariance = torch.eye(input_shape)\n",
    "\n",
    "# print(model_cat.sample())\n",
    "# print(model_bernouli.sample().shape)\n",
    "# model = D.MultivariateNormal(gauss_mean,gauss_covariance)\n",
    "# print(model.sample().shape)\n",
    "# mix = D.Categorical(torch.rand(10))\n",
    "# comp = D.Independent(D.Bernoulli(torch.rand(10,784)),1)\n",
    "# # print(m.sample())\n",
    "# bmm = D.MixtureSameFamily(mix,comp)\n",
    "# print(bmm.sample().shape)\n",
    "# mix1 = D.Categorical(torch.rand(10))\n",
    "# comp1 = D.Independent(D.Normal(torch.randn(10,784),torch.rand(10,784)),1)\n",
    "# gmm = D.MixtureSameFamily(mix1,comp1)\n",
    "# print(gmm.sample().shape)\n",
    "# comp1_mgauss = D.MultivariateNormal(torch.randn(784),torch.eye(784))\n",
    "# comp1_mgauss.sample().shape\n"
   ]
  }
 ],
 "metadata": {
  "kernelspec": {
   "display_name": ".venv",
   "language": "python",
   "name": "python3"
  },
  "language_info": {
   "codemirror_mode": {
    "name": "ipython",
    "version": 3
   },
   "file_extension": ".py",
   "mimetype": "text/x-python",
   "name": "python",
   "nbconvert_exporter": "python",
   "pygments_lexer": "ipython3",
   "version": "3.11.4"
  }
 },
 "nbformat": 4,
 "nbformat_minor": 2
}
