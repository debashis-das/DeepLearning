{
 "cells": [
  {
   "cell_type": "code",
   "execution_count": 6,
   "metadata": {},
   "outputs": [
    {
     "name": "stdout",
     "output_type": "stream",
     "text": [
      "21.155743157371774 [-0.09948855  0.09599574  0.09602356  0.80916476  0.56295535]\n",
      "-87.7864861401435 [0.46419388 0.44688679 0.45388526 0.42857859 0.44172932]\n"
     ]
    }
   ],
   "source": [
    "# Illustrate the powr method for computing largest eigenvector\n",
    "\n",
    "\n",
    "import numpy as np\n",
    "from numpy.linalg import norm\n",
    "\n",
    "np.random.seed(0)\n",
    "\n",
    "\n",
    "def power_method(A, max_iter=100, tol=1e-5):\n",
    "    n = np.shape(A)[0]\n",
    "    u = np.random.rand(n)\n",
    "    converged = False\n",
    "    iter = 0\n",
    "    while (not converged) and (iter < max_iter):\n",
    "        old_u = u\n",
    "        u = np.dot(A, u)\n",
    "        u = u / norm(u)\n",
    "        lam = np.dot(u, np.dot(A, u))\n",
    "        converged = norm(u - old_u) < tol\n",
    "        iter += 1\n",
    "    return lam, u\n",
    "\n",
    "\n",
    "X = np.random.randn(10, 5)\n",
    "A1 = np.dot(X.T, X)\n",
    "lam1, u1 = power_method(A1)\n",
    "# print(lam1,u1)\n",
    "A2 = A1 -  lam1 * np.dot(u1,u1.T)\n",
    "lam2, u2 = power_method(A2)\n",
    "print(lam2,u2)\n"
   ]
  },
  {
   "cell_type": "code",
   "execution_count": 9,
   "metadata": {},
   "outputs": [
    {
     "name": "stdout",
     "output_type": "stream",
     "text": [
      "[21.15574317 15.83040415  2.11083793]\n",
      "[[-0.09945124  0.70060849  0.35143496]\n",
      " [ 0.09597122  0.55535464  0.08376021]\n",
      " [ 0.0959981   0.44677618 -0.67783848]\n",
      " [ 0.8091981  -0.03345173 -0.28516078]\n",
      " [ 0.56292254  0.00099077  0.57332016]]\n"
     ]
    }
   ],
   "source": [
    "evals, evecs = np.linalg.eig(A)\n",
    "idx = np.argsort(np.abs(evals))[::-1]  # largest first\n",
    "evals = evals[idx]\n",
    "evecs = evecs[:, idx]\n",
    "\n",
    "tol = 1e-3\n",
    "assert np.allclose(evecs[:, 0], u1, tol)\n",
    "assert np.allclose(evals[0], lam1, tol)\n",
    "\n",
    "idx = np.argsort(np.abs(evals))[::-2]  # 2nd largest first\n",
    "evals = evals[idx]\n",
    "evecs = evecs[:, idx]\n",
    "print(evals)\n",
    "print(evecs)\n",
    "# assert np.allclose(evecs[:, 0], u2, tol)\n",
    "# assert np.allclose(evals[0], lam2, tol)"
   ]
  }
 ],
 "metadata": {
  "kernelspec": {
   "display_name": ".venv",
   "language": "python",
   "name": "python3"
  },
  "language_info": {
   "codemirror_mode": {
    "name": "ipython",
    "version": 3
   },
   "file_extension": ".py",
   "mimetype": "text/x-python",
   "name": "python",
   "nbconvert_exporter": "python",
   "pygments_lexer": "ipython3",
   "version": "3.11.4"
  }
 },
 "nbformat": 4,
 "nbformat_minor": 2
}
