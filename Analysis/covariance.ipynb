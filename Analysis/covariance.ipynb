{
 "cells": [
  {
   "cell_type": "code",
   "execution_count": 24,
   "metadata": {},
   "outputs": [
    {
     "name": "stdout",
     "output_type": "stream",
     "text": [
      "----Covariance-----\n",
      "tensor([[ 8.6042e-14, -3.8858e-14,  2.1383e-13,  8.1934e-14],\n",
      "        [-3.9008e-13,  1.9787e-13, -1.0062e-12, -3.8541e-13],\n",
      "        [ 1.7106e-12, -8.6831e-13,  4.4134e-12,  1.6900e-12],\n",
      "        [ 0.0000e+00, -5.5511e-17,  0.0000e+00,  0.0000e+00]],\n",
      "       dtype=torch.float64)\n",
      "tensor([[ 0.6857, -0.0424,  1.2743,  0.5163],\n",
      "        [-0.0424,  0.1900, -0.3297, -0.1216],\n",
      "        [ 1.2743, -0.3297,  3.1163,  1.2956],\n",
      "        [ 0.5163, -0.1216,  1.2956,  0.5810]], dtype=torch.float64)\n",
      "----Mean-----\n",
      "tensor([5.3413, 3.2107, 2.4120, 0.6120], dtype=torch.float64)\n",
      "tensor([5.8433, 3.0573, 3.7580, 1.1993], dtype=torch.float64)\n"
     ]
    }
   ],
   "source": [
    "# calculate covariance & correlation matrix using dataset\n",
    "import torch as torch\n",
    "from sklearn.datasets import load_iris\n",
    "iris = load_iris()\n",
    "df_iris1 = torch.tensor(iris.data[:75])\n",
    "df_iris2 = torch.tensor(iris.data[75:])\n",
    "diffs1 = df_iris1-df_iris1.mean(dim=0)\n",
    "cov_matrix_calc1 = torch.matmul(diffs1.T,diffs1)/(len(df_iris1)-1)\n",
    "diffs2 = df_iris2-df_iris2.mean(dim=0)\n",
    "cov_matrix_calc2 = torch.matmul(diffs1.T,diffs1)/(len(df_iris1)-1)\n",
    "# print(cov_matrix_calc1)\n",
    "# print(cov_matrix_calc2)\n",
    "cov_11 = torch.matmul(cov_matrix_calc1.T,cov_matrix_calc1)\n",
    "# print(cov_11)\n",
    "cov_12 = torch.matmul(cov_matrix_calc1.T,cov_matrix_calc2)\n",
    "# print(cov_12)\n",
    "cov_21 = torch.matmul(cov_matrix_calc2.T,cov_matrix_calc1)\n",
    "# print(cov_21)\n",
    "cov_22 = torch.matmul(cov_matrix_calc2.T,cov_matrix_calc2)\n",
    "# print(cov_22)\n",
    "final_cov = cov_11 - torch.matmul(torch.matmul(cov_12,torch.inverse(cov_22)),cov_21)\n",
    "print('----Covariance-----')\n",
    "print(final_cov)\n",
    "print(torch.cov(torch.tensor(iris.data).T))\n",
    "print('----Mean-----')\n",
    "cal_semi_mean = torch.matmul(torch.matmul(cov_12,torch.inverse(cov_22)),diffs2.T).mean(dim=1)\n",
    "final_mean = df_iris1.mean(dim=0) + cal_semi_mean\n",
    "print(final_mean)\n",
    "print(torch.tensor(iris.data).mean(dim=0))\n"
   ]
  }
 ],
 "metadata": {
  "kernelspec": {
   "display_name": ".venv",
   "language": "python",
   "name": "python3"
  },
  "language_info": {
   "codemirror_mode": {
    "name": "ipython",
    "version": 3
   },
   "file_extension": ".py",
   "mimetype": "text/x-python",
   "name": "python",
   "nbconvert_exporter": "python",
   "pygments_lexer": "ipython3",
   "version": "3.11.7"
  }
 },
 "nbformat": 4,
 "nbformat_minor": 2
}
