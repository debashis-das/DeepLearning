{
 "cells": [
  {
   "cell_type": "markdown",
   "metadata": {},
   "source": [
    "RuntimeError: Trying to backward through the graph a second time (or directly access saved tensors after they have already been freed). Saved intermediate values of the graph are freed when you call .backward() or autograd.grad(). Specify retain_graph=True if you need to backward through the graph a second time or if you need to access saved tensors after calling backward.\n",
    "\n",
    "https://stackoverflow.com/questions/48274929/pytorch-runtimeerror-trying-to-backward-through-the-graph-a-second-time-but"
   ]
  },
  {
   "cell_type": "code",
   "execution_count": 48,
   "metadata": {},
   "outputs": [],
   "source": [
    "import torch\n",
    "import torch.distributions as D\n",
    "import torch.nn as nn"
   ]
  },
  {
   "cell_type": "code",
   "execution_count": 55,
   "metadata": {},
   "outputs": [
    {
     "name": "stdout",
     "output_type": "stream",
     "text": [
      "2.772590160369873\n"
     ]
    }
   ],
   "source": [
    "class Model(nn.Module):\n",
    "\n",
    "    def __init__(self):\n",
    "        super(Model, self).__init__()\n",
    "        random_uniform_val = torch.rand(2)\n",
    "        # 1 bernouli ==> 2 classification with 1 feature\n",
    "        self.covariance = nn.Parameter(torch.full((2,1),1/2))\n",
    "        self.mean = nn.Parameter(random_uniform_val/random_uniform_val.sum())\n",
    "        # print(self.covariance)\n",
    "        # print(self.mean)\n",
    "        self.mix_model = D.MixtureSameFamily(D.Categorical(self.mean),\n",
    "                                        D.Independent(D.Bernoulli(self.covariance), reinterpreted_batch_ndims=1))\n",
    "    \n",
    "    def forward(self,data):\n",
    "        log_prob = self.mix_model.log_prob(data)\n",
    "        return -sum(log_prob)/len(data)\n",
    "    \n",
    "model = Model()\n",
    "optimizer = torch.optim.SGD(model.parameters(), lr=0.001, momentum=0.9)\n",
    "running_loss = 0.\n",
    "training_data = torch.asarray([[[[1.]]*20 + [[0.]]*80],[[[1.]]*30 + [[0.]]*70],[[[1.]]*40 + [[0.]]*60],[[[1.]]*50 + [[0.]]*50]])\n",
    "for i in range(4):\n",
    "    # training_data = torch.torch.randint(1,[45,1]).float()\n",
    "    optimizer.zero_grad()\n",
    "    loss = model(training_data[i])\n",
    "    # print(loss)\n",
    "    optimizer.step()\n",
    "    running_loss += loss.item()\n",
    "print(running_loss)\n",
    "# training_data = torch.asarray([[1.]]*20 + [[0.]]*80)\n",
    "# result = model(training_data)\n",
    "# print(result)"
   ]
  },
  {
   "cell_type": "code",
   "execution_count": 90,
   "metadata": {},
   "outputs": [
    {
     "name": "stdout",
     "output_type": "stream",
     "text": [
      "-0.6931471805599453\n"
     ]
    }
   ],
   "source": [
    "import math\n",
    "prob = 0.5\n",
    "ratio = [7,3]\n",
    "NLL = -(ratio[0]*math.log(prob)+ratio[1]*math.log(1-prob))\n",
    "print(math.log(prob))"
   ]
  }
 ],
 "metadata": {
  "kernelspec": {
   "display_name": ".venv",
   "language": "python",
   "name": "python3"
  },
  "language_info": {
   "codemirror_mode": {
    "name": "ipython",
    "version": 3
   },
   "file_extension": ".py",
   "mimetype": "text/x-python",
   "name": "python",
   "nbconvert_exporter": "python",
   "pygments_lexer": "ipython3",
   "version": "3.11.7"
  }
 },
 "nbformat": 4,
 "nbformat_minor": 2
}
