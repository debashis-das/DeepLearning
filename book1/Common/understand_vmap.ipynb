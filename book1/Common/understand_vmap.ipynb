{
 "cells": [
  {
   "cell_type": "code",
   "execution_count": 3,
   "metadata": {},
   "outputs": [
    {
     "name": "stdout",
     "output_type": "stream",
     "text": [
      "(6, 2, 3) (3, 6, 4) (4, 5, 6)\n",
      "[[[12. 12. 12. 12. 12.]\n",
      "  [12. 12. 12. 12. 12.]]\n",
      "\n",
      " [[12. 12. 12. 12. 12.]\n",
      "  [12. 12. 12. 12. 12.]]\n",
      "\n",
      " [[12. 12. 12. 12. 12.]\n",
      "  [12. 12. 12. 12. 12.]]\n",
      "\n",
      " [[12. 12. 12. 12. 12.]\n",
      "  [12. 12. 12. 12. 12.]]\n",
      "\n",
      " [[12. 12. 12. 12. 12.]\n",
      "  [12. 12. 12. 12. 12.]]\n",
      "\n",
      " [[12. 12. 12. 12. 12.]\n",
      "  [12. 12. 12. 12. 12.]]]\n"
     ]
    }
   ],
   "source": [
    "from jax import vmap\n",
    "import jax.numpy as jnp\n",
    "\n",
    "A, B, C, D = 2, 3, 4, 5\n",
    "x = jnp.ones((A, B))\n",
    "y = jnp.ones((B, C))\n",
    "z = jnp.ones((C, D))\n",
    "# print(x.shape,y.shape,z.shape)\n",
    "\n",
    "def foo(tree_arg):\n",
    "  x, (y, z) = tree_arg\n",
    "  return jnp.dot(x, jnp.dot(y, z))\n",
    "#   return jnp.dot(y, z)\n",
    "\n",
    "tree = (x, (y, z))\n",
    "# print(foo(tree))\n",
    "\n",
    "K = 6  # batch size\n",
    "x = jnp.ones((K, A, B))  # batch axis in different locations\n",
    "y = jnp.ones((B, K, C))\n",
    "z = jnp.ones((C, D, K))\n",
    "print(x.shape,y.shape,z.shape)\n",
    "\n",
    "tree = (x, (y, z))\n",
    "vfoo = vmap(foo, in_axes=((0, (1, 2)),))\n",
    "# print(vfoo(tree))\n",
    "# print(vfoo(tree).shape)\n",
    "\n",
    "# Another syntax\n",
    "print(vmap(foo, in_axes=((0, (1, 2)),))(tree))"
   ]
  }
 ],
 "metadata": {
  "kernelspec": {
   "display_name": ".venv",
   "language": "python",
   "name": "python3"
  },
  "language_info": {
   "codemirror_mode": {
    "name": "ipython",
    "version": 3
   },
   "file_extension": ".py",
   "mimetype": "text/x-python",
   "name": "python",
   "nbconvert_exporter": "python",
   "pygments_lexer": "ipython3",
   "version": "3.11.4"
  }
 },
 "nbformat": 4,
 "nbformat_minor": 2
}
