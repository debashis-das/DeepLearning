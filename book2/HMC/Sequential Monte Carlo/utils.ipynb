{
 "cells": [
  {
   "cell_type": "code",
   "execution_count": 9,
   "metadata": {},
   "outputs": [
    {
     "name": "stdout",
     "output_type": "stream",
     "text": [
      "torch.Size([5])\n",
      "tensor([-0.9195, -1.0078, -1.8526, -1.2001, -1.0810])\n"
     ]
    }
   ],
   "source": [
    "import torch\n",
    "import matplotlib.pyplot as plt\n",
    "samples = torch.distributions.Normal(loc=torch.zeros(5),scale=torch.ones(5)).sample((10,))\n",
    "print(samples[0].shape)\n",
    "pdfs = torch.distributions.Normal(loc=torch.zeros(5),scale=torch.ones(5)).log_prob(samples[0])\n",
    "print(pdfs)\n",
    "# input1,_ = samples.ravel().sort()\n",
    "# print(input1)\n",
    "# input = torch.linspace(-4.0,4.0,200)\n",
    "# print(input.shape)\n",
    "# output = torch.distributions.Normal(loc=torch.tensor([0.0]),scale=torch.tensor([1.0])).log_prob(input1)\n",
    "# print(output.ravel().shape)\n",
    "# plt.plot(input1,output.ravel())\n",
    "# plt.plot(input,torch.distributions.Normal(loc=torch.tensor([0.0]),scale=torch.tensor([1.0])).log_prob(input))"
   ]
  },
  {
   "cell_type": "code",
   "execution_count": 14,
   "metadata": {},
   "outputs": [
    {
     "data": {
      "text/plain": [
       "tensor([[0, 1, 2, 3, 4],\n",
       "        [0, 1, 2, 3, 4],\n",
       "        [0, 1, 2, 3, 4],\n",
       "        [0, 1, 2, 3, 4],\n",
       "        [0, 1, 2, 3, 4],\n",
       "        [0, 1, 2, 3, 4]])"
      ]
     },
     "execution_count": 14,
     "metadata": {},
     "output_type": "execute_result"
    }
   ],
   "source": [
    "import torch\n",
    "torch.arange(5)[None, :].repeat(6,1)\n",
    "\n",
    "import torch\n",
    "\n",
    "def z_function(z, delta=0.4):\n",
    "    z_x = z[0] + delta * torch.sin(z[1])\n",
    "    z_y = z[1] + delta * torch.cos(z[0])\n",
    "    return torch.cat((torch.unsqueeze(z_x,0), torch.unsqueeze(z_y,0)))\n",
    "\n",
    "# def sampler(z):\n",
    "#     mus = z_function(z)\n",
    "#     return torch.distributions.MultivariateNormal(loc=z_function(z),\n",
    "#                                                       covariance_matrix=0.001 * torch.eye(z.shape[-1]), validate_args=False).sample()\n",
    "# input = torch.rand((3,2))\n",
    "# print(input)\n",
    "# print(torch.vmap(sampler, randomness='same')(input))\n",
    "# torch.vmap(lambda z : torch.distributions.MultivariateNormal(loc=z_function(z),\n",
    "#                                                       covariance_matrix=0.001 * torch.eye(z.shape[-1])).sample())(input)\n",
    "# torch.vmap(sampler)(input)\n",
    "\n",
    "z0 = torch.tensor([1.5, 0.0])\n",
    "input = torch.rand((5,2))\n",
    "print(input)\n",
    "torch.distributions.MultivariateNormal(loc=z_function(z0),\n",
    "                                                      covariance_matrix=0.001 * torch.eye(z0.shape[-1])).log_prob(input)\n",
    "# torch.vmap(sampler)(input)"
   ]
  }
 ],
 "metadata": {
  "kernelspec": {
   "display_name": ".venv",
   "language": "python",
   "name": "python3"
  },
  "language_info": {
   "codemirror_mode": {
    "name": "ipython",
    "version": 3
   },
   "file_extension": ".py",
   "mimetype": "text/x-python",
   "name": "python",
   "nbconvert_exporter": "python",
   "pygments_lexer": "ipython3",
   "version": "3.11.7"
  }
 },
 "nbformat": 4,
 "nbformat_minor": 2
}
