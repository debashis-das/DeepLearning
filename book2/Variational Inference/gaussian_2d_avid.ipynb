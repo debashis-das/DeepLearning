{
 "cells": [
  {
   "cell_type": "code",
   "execution_count": null,
   "metadata": {},
   "outputs": [],
   "source": [
    "import numpy as np\n",
    "import matplotlib.pyplot as plt\n",
    "import seaborn as sns\n",
    "\n",
    "try:\n",
    "    from tensorflow_probability.substrates import jax as tfp\n",
    "except ModuleNotFoundError:\n",
    "    %pip install -qqq tensorflow_probability\n",
    "    from tensorflow_probability.substrates import jax as tfp\n",
    "\n",
    "tfd = tfp.distributions\n",
    "tfb = tfp.bijectors\n",
    "\n",
    "import jax\n",
    "import jax.numpy as jnp\n",
    "\n",
    "try:\n",
    "    from probml_utils import savefig, latexify\n",
    "except ModuleNotFoundError:\n",
    "    print(\"installing probml_utils\")\n",
    "    %pip install git+https://github.com/probml/probml-utils\n",
    "    from probml_utils import savefig, latexify\n",
    "\n",
    "from probml_utils.pyprobml_utils import plot_ellipse\n",
    "\n",
    "try:\n",
    "    from bijax.advi import ADVI\n",
    "except ModuleNotFoundError:\n",
    "    %pip install git+https://github.com/patel-zeel/bijax\n",
    "    from bijax.advi import ADVI\n",
    "\n",
    "from bijax.utils import train_fn\n",
    "\n",
    "try:\n",
    "    import optax\n",
    "except:\n",
    "    %pip install optax\n",
    "    import optax\n",
    "\n",
    "from jax.config import config\n",
    "\n",
    "config.update(\"jax_enable_x64\", True)"
   ]
  }
 ],
 "metadata": {
  "kernelspec": {
   "display_name": ".venv",
   "language": "python",
   "name": "python3"
  },
  "language_info": {
   "name": "python",
   "version": "3.11.7"
  }
 },
 "nbformat": 4,
 "nbformat_minor": 2
}
