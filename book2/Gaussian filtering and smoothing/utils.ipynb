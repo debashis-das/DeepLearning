{
 "cells": [
  {
   "cell_type": "markdown",
   "metadata": {},
   "source": [
    "# State space model"
   ]
  },
  {
   "cell_type": "code",
   "execution_count": 22,
   "metadata": {},
   "outputs": [
    {
     "name": "stdout",
     "output_type": "stream",
     "text": [
      "tensor([0.3809, 0.2834])\n"
     ]
    }
   ],
   "source": [
    "import torch\n",
    "from torch import nn \n",
    "from torch.distributions.multivariate_normal import MultivariateNormal\n",
    "from matplotlib import pyplot as plt\n",
    "\n",
    "z_dim=2\n",
    "y_dim=2\n",
    "random_z_mean_sample = torch.rand(z_dim)\n",
    "random_z_cov_sample = torch.rand(z_dim,z_dim)\n",
    "random_y_mean_sample = torch.rand(y_dim)\n",
    "random_y_mean_sample = torch.rand(y_dim,y_dim)\n",
    "\n",
    "sample_uniform = lambda sample_tensor,low=0,high=1 : torch.distributions.Uniform(low,high).sample(sample_tensor.size())\n",
    "sample_normal = lambda x : (1/torch.sqrt(torch.tensor([2])*torch.pi))*torch.exp(-0.5*torch.square(x))\n",
    "pz_init_mean = sample_normal(sample_uniform(random_z_mean_sample))\n",
    "print(pz_init_mean)"
   ]
  },
  {
   "cell_type": "markdown",
   "metadata": {},
   "source": [
    "Why postive definite ?\n",
    "\n",
    "https://math.stackexchange.com/questions/86309/what-is-the-geometrical-interpretation-to-positive-definite-matrix"
   ]
  },
  {
   "cell_type": "code",
   "execution_count": 42,
   "metadata": {},
   "outputs": [
    {
     "name": "stdout",
     "output_type": "stream",
     "text": [
      "[[ 2.         0.         0.       ]\n",
      " [-1.         2.236068   0.       ]\n",
      " [ 2.         0.8944272  2.04939  ]]\n",
      "[ 0.21428575 -0.26190475 -0.09523811]\n",
      "tensor([[ 2.0000+0.j,  0.0000+0.j,  0.0000+0.j],\n",
      "        [-1.0000+0.j,  2.2361+0.j,  0.0000+0.j],\n",
      "        [ 2.0000+0.j,  0.8944+0.j,  2.0494+0.j]])\n",
      "tensor([[ 0.2143+0.j],\n",
      "        [-0.2619+0.j],\n",
      "        [-0.0952+0.j]])\n"
     ]
    }
   ],
   "source": [
    "from jax.scipy.linalg import cho_factor, cho_solve\n",
    "import torch\n",
    "import jax.numpy as jnp\n",
    "# import numpy as np\n",
    "\n",
    "def symmetrize(A):\n",
    "    return 0.5 * (A + torch.swapaxes(A, -1, -2))\n",
    "\n",
    "def symmetrize_jax(A):\n",
    "    \"\"\"Symmetrize one or more matrices.\"\"\"\n",
    "    return 0.5 * (A + jnp.swapaxes(A, -1, -2))\n",
    "\n",
    "def psd_solve_jax(A, b, diagonal_boost=1e-9):\n",
    "    \"\"\"A wrapper for coordinating the linalg solvers used in the library for psd matrices.\"\"\"\n",
    "    A = symmetrize_jax(A) + diagonal_boost * jnp.eye(A.shape[-1])\n",
    "    L, lower = cho_factor(A, lower=True)\n",
    "    print(L)\n",
    "    x = cho_solve((L, lower), b)\n",
    "    return x\n",
    "\n",
    "def psd_solve(A, b, diagonal_boost=1e-9):\n",
    "    A = symmetrize(A) + diagonal_boost * torch.eye(A.shape[-1])\n",
    "    L = torch.linalg.cholesky(A)\n",
    "    print(L)\n",
    "    x = torch.cholesky_solve(b,L)\n",
    "    return x\n",
    "\n",
    "# A_jax = jnp.array([[9, 3, 1, 5], [3, 7, 5, 1], [1, 5, 9, 2], [5, 1, 2, 6]])\n",
    "# b_jax = jnp.array([1,1,1,1])\n",
    "# print(psd_solve_jax(A_jax,b_jax))\n",
    "# A = torch.tensor([[9, 3, 1, 5], [3, 7, 5, 1], [1, 5, 9, 2], [5, 1, 2, 6]])\n",
    "# b = torch.tensor([[1],[1],[1],[1]])\n",
    "# print(psd_solve(A,b.float()))\n",
    "\n",
    "A_jax = jnp.array([[4, -2, 4], [-2, 6, -2], [4, 2, 9]])\n",
    "b_jax = jnp.array([1,-2,0])\n",
    "print(psd_solve_jax(A_jax,b_jax))\n",
    "A = torch.tensor([[4, -2, 4], [-2, 6, -2], [4, 2, 9]],dtype=torch.complex64)\n",
    "b = torch.tensor([[1],[-2],[0]],dtype=torch.complex64)\n",
    "print(psd_solve(A,b))"
   ]
  }
 ],
 "metadata": {
  "kernelspec": {
   "display_name": ".venv",
   "language": "python",
   "name": "python3"
  },
  "language_info": {
   "codemirror_mode": {
    "name": "ipython",
    "version": 3
   },
   "file_extension": ".py",
   "mimetype": "text/x-python",
   "name": "python",
   "nbconvert_exporter": "python",
   "pygments_lexer": "ipython3",
   "version": "3.11.7"
  }
 },
 "nbformat": 4,
 "nbformat_minor": 2
}
